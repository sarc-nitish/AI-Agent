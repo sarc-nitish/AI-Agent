{
 "cells": [
  {
   "cell_type": "code",
   "execution_count": 7,
   "id": "70e74503-4b35-42ea-bcf8-ee4793367a04",
   "metadata": {},
   "outputs": [
    {
     "name": "stdout",
     "output_type": "stream",
     "text": [
      "Defaulting to user installation because normal site-packages is not writeable\n",
      "Requirement already satisfied: llama-index in c:\\users\\nitis\\appdata\\roaming\\python\\python311\\site-packages (0.10.36)\n",
      "Requirement already satisfied: llama-index-llms-groq in c:\\users\\nitis\\appdata\\roaming\\python\\python311\\site-packages (0.3.2)\n",
      "Requirement already satisfied: llama-index-agent-openai<0.3.0,>=0.1.4 in c:\\users\\nitis\\appdata\\roaming\\python\\python311\\site-packages (from llama-index) (0.2.9)\n",
      "Requirement already satisfied: llama-index-cli<0.2.0,>=0.1.2 in c:\\users\\nitis\\appdata\\roaming\\python\\python311\\site-packages (from llama-index) (0.1.13)\n",
      "Requirement already satisfied: llama-index-core<0.11.0,>=0.10.35 in c:\\users\\nitis\\appdata\\roaming\\python\\python311\\site-packages (from llama-index) (0.10.68.post1)\n",
      "Requirement already satisfied: llama-index-embeddings-openai<0.2.0,>=0.1.5 in c:\\users\\nitis\\appdata\\roaming\\python\\python311\\site-packages (from llama-index) (0.1.11)\n",
      "Requirement already satisfied: llama-index-indices-managed-llama-cloud<0.2.0,>=0.1.2 in c:\\users\\nitis\\appdata\\roaming\\python\\python311\\site-packages (from llama-index) (0.1.6)\n",
      "Requirement already satisfied: llama-index-legacy<0.10.0,>=0.9.48 in c:\\users\\nitis\\appdata\\roaming\\python\\python311\\site-packages (from llama-index) (0.9.48.post4)\n",
      "Requirement already satisfied: llama-index-llms-openai<0.2.0,>=0.1.13 in c:\\users\\nitis\\appdata\\roaming\\python\\python311\\site-packages (from llama-index) (0.1.31)\n",
      "Requirement already satisfied: llama-index-multi-modal-llms-openai<0.2.0,>=0.1.3 in c:\\users\\nitis\\appdata\\roaming\\python\\python311\\site-packages (from llama-index) (0.1.9)\n",
      "Requirement already satisfied: llama-index-program-openai<0.2.0,>=0.1.3 in c:\\users\\nitis\\appdata\\roaming\\python\\python311\\site-packages (from llama-index) (0.1.7)\n",
      "Requirement already satisfied: llama-index-question-gen-openai<0.2.0,>=0.1.2 in c:\\users\\nitis\\appdata\\roaming\\python\\python311\\site-packages (from llama-index) (0.1.3)\n",
      "Requirement already satisfied: llama-index-readers-file<0.2.0,>=0.1.4 in c:\\users\\nitis\\appdata\\roaming\\python\\python311\\site-packages (from llama-index) (0.1.33)\n",
      "Requirement already satisfied: llama-index-readers-llama-parse<0.2.0,>=0.1.2 in c:\\users\\nitis\\appdata\\roaming\\python\\python311\\site-packages (from llama-index) (0.1.6)\n",
      "Requirement already satisfied: openai>=1.14.0 in c:\\users\\nitis\\appdata\\roaming\\python\\python311\\site-packages (from llama-index-agent-openai<0.3.0,>=0.1.4->llama-index) (1.91.0)\n",
      "Requirement already satisfied: PyYAML>=6.0.1 in c:\\users\\nitis\\appdata\\roaming\\python\\python311\\site-packages (from llama-index-core<0.11.0,>=0.10.35->llama-index) (6.0.2)\n",
      "Requirement already satisfied: SQLAlchemy>=1.4.49 in c:\\users\\nitis\\appdata\\roaming\\python\\python311\\site-packages (from SQLAlchemy[asyncio]>=1.4.49->llama-index-core<0.11.0,>=0.10.35->llama-index) (2.0.41)\n",
      "Requirement already satisfied: aiohttp<4.0.0,>=3.8.6 in c:\\users\\nitis\\appdata\\roaming\\python\\python311\\site-packages (from llama-index-core<0.11.0,>=0.10.35->llama-index) (3.12.13)\n",
      "Requirement already satisfied: dataclasses-json in c:\\users\\nitis\\appdata\\roaming\\python\\python311\\site-packages (from llama-index-core<0.11.0,>=0.10.35->llama-index) (0.6.7)\n",
      "Requirement already satisfied: deprecated>=1.2.9.3 in c:\\users\\nitis\\appdata\\roaming\\python\\python311\\site-packages (from llama-index-core<0.11.0,>=0.10.35->llama-index) (1.2.18)\n",
      "Requirement already satisfied: dirtyjson<2.0.0,>=1.0.8 in c:\\users\\nitis\\appdata\\roaming\\python\\python311\\site-packages (from llama-index-core<0.11.0,>=0.10.35->llama-index) (1.0.8)\n",
      "Requirement already satisfied: fsspec>=2023.5.0 in c:\\users\\nitis\\appdata\\roaming\\python\\python311\\site-packages (from llama-index-core<0.11.0,>=0.10.35->llama-index) (2024.6.1)\n",
      "Requirement already satisfied: httpx in c:\\users\\nitis\\appdata\\roaming\\python\\python311\\site-packages (from llama-index-core<0.11.0,>=0.10.35->llama-index) (0.28.1)\n",
      "Requirement already satisfied: nest-asyncio<2.0.0,>=1.5.8 in c:\\users\\nitis\\appdata\\roaming\\python\\python311\\site-packages (from llama-index-core<0.11.0,>=0.10.35->llama-index) (1.6.0)\n",
      "Requirement already satisfied: networkx>=3.0 in c:\\users\\nitis\\appdata\\roaming\\python\\python311\\site-packages (from llama-index-core<0.11.0,>=0.10.35->llama-index) (3.3)\n",
      "Requirement already satisfied: nltk!=3.9,>=3.8.1 in c:\\users\\nitis\\appdata\\roaming\\python\\python311\\site-packages (from llama-index-core<0.11.0,>=0.10.35->llama-index) (3.9.1)\n",
      "Requirement already satisfied: numpy<2.0.0 in c:\\users\\nitis\\appdata\\roaming\\python\\python311\\site-packages (from llama-index-core<0.11.0,>=0.10.35->llama-index) (1.26.4)\n",
      "Requirement already satisfied: pandas in c:\\users\\nitis\\appdata\\roaming\\python\\python311\\site-packages (from llama-index-core<0.11.0,>=0.10.35->llama-index) (2.2.3)\n",
      "Requirement already satisfied: pillow>=9.0.0 in c:\\users\\nitis\\appdata\\roaming\\python\\python311\\site-packages (from llama-index-core<0.11.0,>=0.10.35->llama-index) (11.1.0)\n",
      "Requirement already satisfied: pydantic<3.0 in c:\\users\\nitis\\appdata\\roaming\\python\\python311\\site-packages (from llama-index-core<0.11.0,>=0.10.35->llama-index) (2.11.7)\n",
      "Requirement already satisfied: requests>=2.31.0 in c:\\users\\nitis\\appdata\\roaming\\python\\python311\\site-packages (from llama-index-core<0.11.0,>=0.10.35->llama-index) (2.32.4)\n",
      "Requirement already satisfied: tenacity!=8.4.0,<9.0.0,>=8.2.0 in c:\\users\\nitis\\appdata\\roaming\\python\\python311\\site-packages (from llama-index-core<0.11.0,>=0.10.35->llama-index) (8.5.0)\n",
      "Requirement already satisfied: tiktoken>=0.3.3 in c:\\users\\nitis\\appdata\\roaming\\python\\python311\\site-packages (from llama-index-core<0.11.0,>=0.10.35->llama-index) (0.9.0)\n",
      "Requirement already satisfied: tqdm<5.0.0,>=4.66.1 in c:\\users\\nitis\\appdata\\roaming\\python\\python311\\site-packages (from llama-index-core<0.11.0,>=0.10.35->llama-index) (4.67.1)\n",
      "Requirement already satisfied: typing-extensions>=4.5.0 in c:\\users\\nitis\\appdata\\roaming\\python\\python311\\site-packages (from llama-index-core<0.11.0,>=0.10.35->llama-index) (4.14.0)\n",
      "Requirement already satisfied: typing-inspect>=0.8.0 in c:\\users\\nitis\\appdata\\roaming\\python\\python311\\site-packages (from llama-index-core<0.11.0,>=0.10.35->llama-index) (0.9.0)\n",
      "Requirement already satisfied: wrapt in c:\\users\\nitis\\appdata\\roaming\\python\\python311\\site-packages (from llama-index-core<0.11.0,>=0.10.35->llama-index) (1.17.2)\n",
      "Requirement already satisfied: aiohappyeyeballs>=2.5.0 in c:\\users\\nitis\\appdata\\roaming\\python\\python311\\site-packages (from aiohttp<4.0.0,>=3.8.6->llama-index-core<0.11.0,>=0.10.35->llama-index) (2.6.1)\n",
      "Requirement already satisfied: aiosignal>=1.1.2 in c:\\users\\nitis\\appdata\\roaming\\python\\python311\\site-packages (from aiohttp<4.0.0,>=3.8.6->llama-index-core<0.11.0,>=0.10.35->llama-index) (1.3.2)\n",
      "Requirement already satisfied: attrs>=17.3.0 in c:\\users\\nitis\\appdata\\roaming\\python\\python311\\site-packages (from aiohttp<4.0.0,>=3.8.6->llama-index-core<0.11.0,>=0.10.35->llama-index) (25.3.0)\n",
      "Requirement already satisfied: frozenlist>=1.1.1 in c:\\users\\nitis\\appdata\\roaming\\python\\python311\\site-packages (from aiohttp<4.0.0,>=3.8.6->llama-index-core<0.11.0,>=0.10.35->llama-index) (1.7.0)\n",
      "Requirement already satisfied: multidict<7.0,>=4.5 in c:\\users\\nitis\\appdata\\roaming\\python\\python311\\site-packages (from aiohttp<4.0.0,>=3.8.6->llama-index-core<0.11.0,>=0.10.35->llama-index) (6.5.0)\n",
      "Requirement already satisfied: propcache>=0.2.0 in c:\\users\\nitis\\appdata\\roaming\\python\\python311\\site-packages (from aiohttp<4.0.0,>=3.8.6->llama-index-core<0.11.0,>=0.10.35->llama-index) (0.3.2)\n",
      "Requirement already satisfied: yarl<2.0,>=1.17.0 in c:\\users\\nitis\\appdata\\roaming\\python\\python311\\site-packages (from aiohttp<4.0.0,>=3.8.6->llama-index-core<0.11.0,>=0.10.35->llama-index) (1.20.1)\n",
      "Requirement already satisfied: llamaindex-py-client<0.2.0,>=0.1.19 in c:\\users\\nitis\\appdata\\roaming\\python\\python311\\site-packages (from llama-index-indices-managed-llama-cloud<0.2.0,>=0.1.2->llama-index) (0.1.19)\n",
      "Requirement already satisfied: beautifulsoup4<5.0.0,>=4.12.3 in c:\\users\\nitis\\appdata\\roaming\\python\\python311\\site-packages (from llama-index-readers-file<0.2.0,>=0.1.4->llama-index) (4.13.4)\n",
      "Requirement already satisfied: pypdf<5.0.0,>=4.0.1 in c:\\users\\nitis\\appdata\\roaming\\python\\python311\\site-packages (from llama-index-readers-file<0.2.0,>=0.1.4->llama-index) (4.3.1)\n",
      "Requirement already satisfied: striprtf<0.0.27,>=0.0.26 in c:\\users\\nitis\\appdata\\roaming\\python\\python311\\site-packages (from llama-index-readers-file<0.2.0,>=0.1.4->llama-index) (0.0.26)\n",
      "Requirement already satisfied: soupsieve>1.2 in c:\\users\\nitis\\appdata\\roaming\\python\\python311\\site-packages (from beautifulsoup4<5.0.0,>=4.12.3->llama-index-readers-file<0.2.0,>=0.1.4->llama-index) (2.7)\n",
      "Requirement already satisfied: llama-parse>=0.4.0 in c:\\users\\nitis\\appdata\\roaming\\python\\python311\\site-packages (from llama-index-readers-llama-parse<0.2.0,>=0.1.2->llama-index) (0.4.9)\n",
      "Requirement already satisfied: anyio<5,>=3.5.0 in c:\\users\\nitis\\appdata\\roaming\\python\\python311\\site-packages (from openai>=1.14.0->llama-index-agent-openai<0.3.0,>=0.1.4->llama-index) (4.8.0)\n",
      "Requirement already satisfied: distro<2,>=1.7.0 in c:\\users\\nitis\\appdata\\roaming\\python\\python311\\site-packages (from openai>=1.14.0->llama-index-agent-openai<0.3.0,>=0.1.4->llama-index) (1.9.0)\n",
      "Requirement already satisfied: jiter<1,>=0.4.0 in c:\\users\\nitis\\appdata\\roaming\\python\\python311\\site-packages (from openai>=1.14.0->llama-index-agent-openai<0.3.0,>=0.1.4->llama-index) (0.10.0)\n",
      "Requirement already satisfied: sniffio in c:\\users\\nitis\\appdata\\roaming\\python\\python311\\site-packages (from openai>=1.14.0->llama-index-agent-openai<0.3.0,>=0.1.4->llama-index) (1.3.1)\n",
      "Requirement already satisfied: idna>=2.8 in c:\\users\\nitis\\appdata\\roaming\\python\\python311\\site-packages (from anyio<5,>=3.5.0->openai>=1.14.0->llama-index-agent-openai<0.3.0,>=0.1.4->llama-index) (3.10)\n",
      "Requirement already satisfied: certifi in c:\\users\\nitis\\appdata\\roaming\\python\\python311\\site-packages (from httpx->llama-index-core<0.11.0,>=0.10.35->llama-index) (2025.6.15)\n",
      "Requirement already satisfied: httpcore==1.* in c:\\users\\nitis\\appdata\\roaming\\python\\python311\\site-packages (from httpx->llama-index-core<0.11.0,>=0.10.35->llama-index) (1.0.7)\n",
      "Requirement already satisfied: h11<0.15,>=0.13 in c:\\users\\nitis\\appdata\\roaming\\python\\python311\\site-packages (from httpcore==1.*->httpx->llama-index-core<0.11.0,>=0.10.35->llama-index) (0.14.0)\n",
      "Requirement already satisfied: annotated-types>=0.6.0 in c:\\users\\nitis\\appdata\\roaming\\python\\python311\\site-packages (from pydantic<3.0->llama-index-core<0.11.0,>=0.10.35->llama-index) (0.7.0)\n",
      "Requirement already satisfied: pydantic-core==2.33.2 in c:\\users\\nitis\\appdata\\roaming\\python\\python311\\site-packages (from pydantic<3.0->llama-index-core<0.11.0,>=0.10.35->llama-index) (2.33.2)\n",
      "Requirement already satisfied: typing-inspection>=0.4.0 in c:\\users\\nitis\\appdata\\roaming\\python\\python311\\site-packages (from pydantic<3.0->llama-index-core<0.11.0,>=0.10.35->llama-index) (0.4.0)\n",
      "Requirement already satisfied: colorama in c:\\users\\nitis\\appdata\\roaming\\python\\python311\\site-packages (from tqdm<5.0.0,>=4.66.1->llama-index-core<0.11.0,>=0.10.35->llama-index) (0.4.6)\n",
      "INFO: pip is looking at multiple versions of llama-index-llms-groq to determine which version is compatible with other requirements. This could take a while.\n",
      "Collecting llama-index-llms-groq\n",
      "  Downloading llama_index_llms_groq-0.3.1-py3-none-any.whl.metadata (2.3 kB)\n",
      "  Downloading llama_index_llms_groq-0.3.0-py3-none-any.whl.metadata (2.3 kB)\n",
      "  Downloading llama_index_llms_groq-0.2.0-py3-none-any.whl.metadata (2.3 kB)\n",
      "  Downloading llama_index_llms_groq-0.1.4-py3-none-any.whl.metadata (2.2 kB)\n",
      "Collecting llama-index-llms-openai-like<0.2.0,>=0.1.3 (from llama-index-llms-groq)\n",
      "  Downloading llama_index_llms_openai_like-0.1.3-py3-none-any.whl.metadata (753 bytes)\n",
      "Requirement already satisfied: transformers<5.0.0,>=4.37.0 in c:\\users\\nitis\\appdata\\roaming\\python\\python311\\site-packages (from llama-index-llms-openai-like<0.2.0,>=0.1.3->llama-index-llms-groq) (4.39.3)\n",
      "Requirement already satisfied: filelock in c:\\users\\nitis\\appdata\\roaming\\python\\python311\\site-packages (from transformers<5.0.0,>=4.37.0->llama-index-llms-openai-like<0.2.0,>=0.1.3->llama-index-llms-groq) (3.13.1)\n",
      "Requirement already satisfied: huggingface-hub<1.0,>=0.19.3 in c:\\users\\nitis\\appdata\\roaming\\python\\python311\\site-packages (from transformers<5.0.0,>=4.37.0->llama-index-llms-openai-like<0.2.0,>=0.1.3->llama-index-llms-groq) (0.33.0)\n",
      "Requirement already satisfied: packaging>=20.0 in c:\\users\\nitis\\appdata\\roaming\\python\\python311\\site-packages (from transformers<5.0.0,>=4.37.0->llama-index-llms-openai-like<0.2.0,>=0.1.3->llama-index-llms-groq) (24.2)\n",
      "Requirement already satisfied: regex!=2019.12.17 in c:\\users\\nitis\\appdata\\roaming\\python\\python311\\site-packages (from transformers<5.0.0,>=4.37.0->llama-index-llms-openai-like<0.2.0,>=0.1.3->llama-index-llms-groq) (2024.11.6)\n",
      "Requirement already satisfied: tokenizers<0.19,>=0.14 in c:\\users\\nitis\\appdata\\roaming\\python\\python311\\site-packages (from transformers<5.0.0,>=4.37.0->llama-index-llms-openai-like<0.2.0,>=0.1.3->llama-index-llms-groq) (0.15.2)\n",
      "Requirement already satisfied: safetensors>=0.4.1 in c:\\users\\nitis\\appdata\\roaming\\python\\python311\\site-packages (from transformers<5.0.0,>=4.37.0->llama-index-llms-openai-like<0.2.0,>=0.1.3->llama-index-llms-groq) (0.5.3)\n",
      "Requirement already satisfied: click in c:\\users\\nitis\\appdata\\roaming\\python\\python311\\site-packages (from nltk!=3.9,>=3.8.1->llama-index-core<0.11.0,>=0.10.35->llama-index) (8.1.8)\n",
      "Requirement already satisfied: joblib in c:\\users\\nitis\\appdata\\roaming\\python\\python311\\site-packages (from nltk!=3.9,>=3.8.1->llama-index-core<0.11.0,>=0.10.35->llama-index) (1.4.2)\n",
      "Requirement already satisfied: charset_normalizer<4,>=2 in c:\\users\\nitis\\appdata\\roaming\\python\\python311\\site-packages (from requests>=2.31.0->llama-index-core<0.11.0,>=0.10.35->llama-index) (3.4.2)\n",
      "Requirement already satisfied: urllib3<3,>=1.21.1 in c:\\users\\nitis\\appdata\\roaming\\python\\python311\\site-packages (from requests>=2.31.0->llama-index-core<0.11.0,>=0.10.35->llama-index) (2.5.0)\n",
      "Requirement already satisfied: greenlet>=1 in c:\\users\\nitis\\appdata\\roaming\\python\\python311\\site-packages (from SQLAlchemy>=1.4.49->SQLAlchemy[asyncio]>=1.4.49->llama-index-core<0.11.0,>=0.10.35->llama-index) (3.2.3)\n",
      "Requirement already satisfied: mypy-extensions>=0.3.0 in c:\\users\\nitis\\appdata\\roaming\\python\\python311\\site-packages (from typing-inspect>=0.8.0->llama-index-core<0.11.0,>=0.10.35->llama-index) (1.1.0)\n",
      "Requirement already satisfied: marshmallow<4.0.0,>=3.18.0 in c:\\users\\nitis\\appdata\\roaming\\python\\python311\\site-packages (from dataclasses-json->llama-index-core<0.11.0,>=0.10.35->llama-index) (3.26.1)\n",
      "Requirement already satisfied: python-dateutil>=2.8.2 in c:\\users\\nitis\\appdata\\roaming\\python\\python311\\site-packages (from pandas->llama-index-core<0.11.0,>=0.10.35->llama-index) (2.9.0.post0)\n",
      "Requirement already satisfied: pytz>=2020.1 in c:\\users\\nitis\\appdata\\roaming\\python\\python311\\site-packages (from pandas->llama-index-core<0.11.0,>=0.10.35->llama-index) (2025.1)\n",
      "Requirement already satisfied: tzdata>=2022.7 in c:\\users\\nitis\\appdata\\roaming\\python\\python311\\site-packages (from pandas->llama-index-core<0.11.0,>=0.10.35->llama-index) (2025.1)\n",
      "Requirement already satisfied: six>=1.5 in c:\\users\\nitis\\appdata\\roaming\\python\\python311\\site-packages (from python-dateutil>=2.8.2->pandas->llama-index-core<0.11.0,>=0.10.35->llama-index) (1.17.0)\n",
      "Downloading llama_index_llms_groq-0.1.4-py3-none-any.whl (2.9 kB)\n",
      "Downloading llama_index_llms_openai_like-0.1.3-py3-none-any.whl (3.0 kB)\n",
      "Installing collected packages: llama-index-llms-openai-like, llama-index-llms-groq\n",
      "\n",
      "  Attempting uninstall: llama-index-llms-openai-like\n",
      "\n",
      "    Found existing installation: llama-index-llms-openai-like 0.4.0\n",
      "\n",
      "    Uninstalling llama-index-llms-openai-like-0.4.0:\n",
      "\n",
      "      Successfully uninstalled llama-index-llms-openai-like-0.4.0\n",
      "\n",
      "  Attempting uninstall: llama-index-llms-groq\n",
      "\n",
      "    Found existing installation: llama-index-llms-groq 0.3.2\n",
      "\n",
      "    Uninstalling llama-index-llms-groq-0.3.2:\n",
      "\n",
      "      Successfully uninstalled llama-index-llms-groq-0.3.2\n",
      "\n",
      "   ---------------------------------------- 2/2 [llama-index-llms-groq]\n",
      "\n",
      "Successfully installed llama-index-llms-groq-0.1.4 llama-index-llms-openai-like-0.1.3\n"
     ]
    }
   ],
   "source": [
    "!pip install llama-index llama-index-llms-groq"
   ]
  },
  {
   "cell_type": "markdown",
   "id": "7cef2d36-75c5-4dc4-9c18-b24c8c3f158e",
   "metadata": {},
   "source": [
    "### Importing the dependenies"
   ]
  },
  {
   "cell_type": "code",
   "execution_count": 8,
   "id": "e0b8d894-74cd-4b96-9aa6-46e8fb925e29",
   "metadata": {},
   "outputs": [],
   "source": [
    "import os\n",
    "from llama_index.core.agent import ReActAgent\n",
    "from llama_index.llms.groq import Groq\n",
    "from llama_index.core.tools import FunctionTool"
   ]
  },
  {
   "cell_type": "markdown",
   "id": "0598b67a-6be9-4ffa-b813-74e007393359",
   "metadata": {},
   "source": [
    "## Loading the Groq LLM"
   ]
  },
  {
   "cell_type": "code",
   "execution_count": 9,
   "id": "c297d647-92a0-4a46-a233-a1a99eebd1e5",
   "metadata": {},
   "outputs": [],
   "source": [
    "os.environ[\"GROQ_API_KEY\"] = \"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\""
   ]
  },
  {
   "cell_type": "code",
   "execution_count": 10,
   "id": "0b77ab60-adc3-4aa7-b38b-d7bdf338cfd3",
   "metadata": {},
   "outputs": [],
   "source": [
    "llm = Groq(\n",
    "    model = \"llama-3.1-8b-instant\",\n",
    "    temperature=0\n",
    ")"
   ]
  },
  {
   "cell_type": "markdown",
   "id": "b052ac33-708d-49d9-9154-6d03dfa2f253",
   "metadata": {},
   "source": [
    "## Creating basic arithmatic tools"
   ]
  },
  {
   "cell_type": "code",
   "execution_count": 11,
   "id": "44150f73-2c9c-45c2-b3cc-c5731c25c037",
   "metadata": {},
   "outputs": [],
   "source": [
    "def add(a: float, b: float) -> float:\n",
    "  \"\"\"Add two numbers and return the sum.\"\"\"\n",
    "  return a + b\n",
    "\n",
    "\n",
    "def subtract(a: float, b: float) -> float:\n",
    "  \"\"\"Subtract the second number from the first number and return the result\"\"\"\n",
    "  return a - b\n",
    "\n",
    "def multiply(a: float, b: float) -> float:\n",
    "  \"\"\"Multiply twi numbers abd return teh product\"\"\"\n",
    "  return a * b\n",
    "\n",
    "def devide(a: float, b: float) -> float:\n",
    "  \"\"\"Divide the first number by the second number and return teh quotient\"\"\"\n",
    "  return a / b"
   ]
  },
  {
   "cell_type": "code",
   "execution_count": 12,
   "id": "a6a4883d-fa61-4693-93a2-ef31a1b24a1c",
   "metadata": {},
   "outputs": [],
   "source": [
    "add_tool = FunctionTool.from_defaults(fn=add)\n",
    "subtract_tool = FunctionTool.from_defaults(fn=subtract)\n",
    "multiply_tool = FunctionTool.from_defaults(fn=multiply)\n",
    "devide_tool = FunctionTool.from_defaults(fn=devide)"
   ]
  },
  {
   "cell_type": "code",
   "execution_count": 13,
   "id": "92d80ec9-9db3-4409-b2ad-dea10a76c6a9",
   "metadata": {},
   "outputs": [],
   "source": [
    "tools_list = [add_tool, subtract_tool, multiply_tool, devide_tool]"
   ]
  },
  {
   "cell_type": "markdown",
   "id": "67a33e03-1b9b-4b70-b9e5-659fbebdee0a",
   "metadata": {},
   "source": [
    "## Creating the Agent"
   ]
  },
  {
   "cell_type": "code",
   "execution_count": 14,
   "id": "ee955db8-df5d-4b9c-bbd2-5f568c5ae0ae",
   "metadata": {},
   "outputs": [],
   "source": [
    "agent = ReActAgent.from_tools(\n",
    "    tools_list,\n",
    "    llm=llm,\n",
    "    verbose=True\n",
    ")"
   ]
  },
  {
   "cell_type": "markdown",
   "id": "6adcaf38-5cea-4e40-a0fb-c00286c92c95",
   "metadata": {},
   "source": [
    "## Agent is action"
   ]
  },
  {
   "cell_type": "code",
   "execution_count": 15,
   "id": "050b9825-7ada-4bbb-b5cc-fd24c6a8285e",
   "metadata": {},
   "outputs": [
    {
     "name": "stdout",
     "output_type": "stream",
     "text": [
      "> Running step a77b8def-ed93-4b65-9376-6df52d4631a6. Step input: What is 20 divided by 2\n",
      "\u001b[1;3;38;5;200mThought: The current language of the user is: English. I need to use a tool to help me answer the question.\n",
      "Action: devide\n",
      "Action Input: {'a': 20, 'b': 2}\n",
      "\u001b[0m\u001b[1;3;34mObservation: 10.0\n",
      "\u001b[0m> Running step 852d49d3-beda-431b-b453-4194d856989c. Step input: None\n",
      "\u001b[1;3;38;5;200mThought: I can answer without using any more tools. I'll use the user's language to answer\n",
      "Answer: The result of 20 divided by 2 is 10.\n",
      "\u001b[0m"
     ]
    }
   ],
   "source": [
    "response = agent.chat(\"What is 20 divided by 2\")"
   ]
  },
  {
   "cell_type": "code",
   "execution_count": 16,
   "id": "14023292-1697-4853-8a38-1ca1482b43ce",
   "metadata": {},
   "outputs": [
    {
     "data": {
      "text/plain": [
       "AgentChatResponse(response='The result of 20 divided by 2 is 10.', sources=[ToolOutput(content='10.0', tool_name='devide', raw_input={'args': (), 'kwargs': {'a': 20, 'b': 2}}, raw_output=10.0, is_error=False)], source_nodes=[], is_dummy_stream=False, metadata=None)"
      ]
     },
     "execution_count": 16,
     "metadata": {},
     "output_type": "execute_result"
    }
   ],
   "source": [
    "response"
   ]
  },
  {
   "cell_type": "code",
   "execution_count": 17,
   "id": "6dbbdbfa-1b8d-4803-8cf4-95680ecdea81",
   "metadata": {},
   "outputs": [
    {
     "name": "stdout",
     "output_type": "stream",
     "text": [
      "The result of 20 divided by 2 is 10.\n"
     ]
    }
   ],
   "source": [
    "print(response.response)"
   ]
  },
  {
   "cell_type": "code",
   "execution_count": 18,
   "id": "1d901f83-c7ce-4ef5-bc44-e52f578db3c7",
   "metadata": {},
   "outputs": [
    {
     "name": "stdout",
     "output_type": "stream",
     "text": [
      "10.0\n"
     ]
    }
   ],
   "source": [
    "raw_output_value = response.sources[0].raw_output\n",
    "print(raw_output_value)"
   ]
  },
  {
   "cell_type": "code",
   "execution_count": 19,
   "id": "3ed03d47-7f55-4836-a197-5c83f076e6b9",
   "metadata": {},
   "outputs": [
    {
     "name": "stdout",
     "output_type": "stream",
     "text": [
      "> Running step 03cd237a-4d74-4b29-b3d4-5bdaf2cbf7e1. Step input: What is 20 plus 2\n",
      "\u001b[1;3;38;5;200mThought: The current language of the user is: English. I need to use a tool to help me answer the question.\n",
      "Action: add\n",
      "Action Input: {'a': 20, 'b': 2}\n",
      "\u001b[0m\u001b[1;3;34mObservation: 22\n",
      "\u001b[0m> Running step 8de032c9-d328-4f4a-a682-f68d92e3b451. Step input: None\n",
      "\u001b[1;3;38;5;200mThought: I can answer without using any more tools. I'll use the user's language to answer\n",
      "Answer: The result of 20 plus 2 is 22.\n",
      "\u001b[0m"
     ]
    }
   ],
   "source": [
    "response = agent.chat(\"What is 20 plus 2\")"
   ]
  },
  {
   "cell_type": "code",
   "execution_count": 20,
   "id": "58f97b39-ca96-4889-8b3d-6f0f078ace18",
   "metadata": {},
   "outputs": [
    {
     "name": "stdout",
     "output_type": "stream",
     "text": [
      "> Running step e993c688-9555-404b-9056-cde85dff8f32. Step input: What is 20 plus 2\n",
      "\u001b[1;3;38;5;200mThought: The current language of the user is: English. I need to use a tool to help me answer the question.\n",
      "Action: add\n",
      "Action Input: {'a': 20, 'b': 2}\n",
      "\u001b[0m\u001b[1;3;34mObservation: 22\n",
      "\u001b[0m> Running step 0839db51-30cf-407b-820b-dd4664a87d23. Step input: None\n",
      "\u001b[1;3;38;5;200mThought: I can answer without using any more tools. I'll use the user's language to answer\n",
      "Answer: The result of 20 plus 2 is 22.\n",
      "\u001b[0m"
     ]
    }
   ],
   "source": [
    "response = agent.chat(\"What is 20 plus 2\")"
   ]
  },
  {
   "cell_type": "code",
   "execution_count": 21,
   "id": "1f408c7f-5aee-435d-90ae-b82aa61e2786",
   "metadata": {},
   "outputs": [
    {
     "name": "stdout",
     "output_type": "stream",
     "text": [
      "> Running step e70c5d80-80b9-4213-9117-21dab85a4d8b. Step input: What is 20+(2*4)? Use tool to calculate evry step.\n",
      "\u001b[1;3;38;5;200mThought: I need to use a tool to help me calculate the expression 20+(2*4).\n",
      "Action: multiply\n",
      "Action Input: {'a': 2, 'b': 4}\n",
      "\u001b[0m\u001b[1;3;34mObservation: 8\n",
      "\u001b[0m> Running step cfba76eb-b9c2-455f-96a6-6e16a09158a2. Step input: None\n",
      "\u001b[1;3;38;5;200mThought: Now I need to use the result of the multiplication to calculate the final expression 20+(2*4).\n",
      "Action: add\n",
      "Action Input: {'a': 20, 'b': 8}\n",
      "\u001b[0m\u001b[1;3;34mObservation: 28\n",
      "\u001b[0m> Running step 41fe3198-64ca-4ca3-8f5d-eb4d84533ef4. Step input: None\n",
      "\u001b[1;3;38;5;200mThought: I can answer without using any more tools. I'll use the user's language to answer\n",
      "Answer: The result of 20+(2*4) is 28.\n",
      "\u001b[0m"
     ]
    }
   ],
   "source": [
    "response = agent.chat(\"What is 20+(2*4)? Use tool to calculate evry step.\")"
   ]
  },
  {
   "cell_type": "code",
   "execution_count": 22,
   "id": "b7757f87-3470-4052-b0c5-e2f29240112a",
   "metadata": {},
   "outputs": [
    {
     "name": "stdout",
     "output_type": "stream",
     "text": [
      "The result of 20+(2*4) is 28.\n"
     ]
    }
   ],
   "source": [
    "print(response.response)"
   ]
  },
  {
   "cell_type": "code",
   "execution_count": null,
   "id": "43682b60-53f9-4172-927d-0fd12db59e3a",
   "metadata": {},
   "outputs": [],
   "source": []
  },
  {
   "cell_type": "code",
   "execution_count": null,
   "id": "504dee52-3f3b-4ec1-83f1-a82eaf0fe223",
   "metadata": {},
   "outputs": [],
   "source": []
  },
  {
   "cell_type": "code",
   "execution_count": null,
   "id": "aad2d770-f2e1-47fb-82dc-b6d22d1539b8",
   "metadata": {},
   "outputs": [],
   "source": []
  }
 ],
 "metadata": {
  "kernelspec": {
   "display_name": "Python 3 (ipykernel)",
   "language": "python",
   "name": "python3"
  },
  "language_info": {
   "codemirror_mode": {
    "name": "ipython",
    "version": 3
   },
   "file_extension": ".py",
   "mimetype": "text/x-python",
   "name": "python",
   "nbconvert_exporter": "python",
   "pygments_lexer": "ipython3",
   "version": "3.11.5"
  }
 },
 "nbformat": 4,
 "nbformat_minor": 5
}
